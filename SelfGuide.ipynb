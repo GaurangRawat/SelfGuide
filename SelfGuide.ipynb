{
  "nbformat": 4,
  "nbformat_minor": 0,
  "metadata": {
    "colab": {
      "provenance": [],
      "gpuType": "T4",
      "authorship_tag": "ABX9TyMe9BM+0+wWNTAgqnDvxja9",
      "include_colab_link": true
    },
    "kernelspec": {
      "name": "python3",
      "display_name": "Python 3"
    },
    "language_info": {
      "name": "python"
    },
    "accelerator": "GPU"
  },
  "cells": [
    {
      "cell_type": "markdown",
      "metadata": {
        "id": "view-in-github",
        "colab_type": "text"
      },
      "source": [
        "<a href=\"https://colab.research.google.com/github/GaurangRawat/SelfGuide/blob/main/SelfGuide.ipynb\" target=\"_parent\"><img src=\"https://colab.research.google.com/assets/colab-badge.svg\" alt=\"Open In Colab\"/></a>"
      ]
    },
    {
      "cell_type": "code",
      "source": [
        "from transformers import pipeline"
      ],
      "metadata": {
        "id": "P1HT4XZzV_87"
      },
      "execution_count": 28,
      "outputs": []
    },
    {
      "cell_type": "code",
      "source": [
        "qa_pipeline = pipeline(\"question-answering\", model=\"distilbert-base-uncased-distilled-squad\")"
      ],
      "metadata": {
        "colab": {
          "base_uri": "https://localhost:8080/"
        },
        "id": "nhTltDOTUJrU",
        "outputId": "f6671630-7473-4bed-84fa-7c8c9782f9fa"
      },
      "execution_count": 29,
      "outputs": [
        {
          "output_type": "stream",
          "name": "stderr",
          "text": [
            "Device set to use cuda:0\n"
          ]
        }
      ]
    },
    {
      "cell_type": "code",
      "source": [
        "context = \"\"\"\n",
        "Name of the chatbot is SelfGuide.\n",
        "Developer: Gaurang Rawat\n",
        "Date of Birth: 12 August 2003\n",
        "Age: 21 years\n",
        "Country: India\n",
        "College: Bhagwan Parshuram Institute of Technology (BPIT)\n",
        "Current Position: AI/ML Intern at Shipclues Technologies\n",
        "Specializations: Machine Learning, Deep Learning, Generative AI\n",
        "\"\"\""
      ],
      "metadata": {
        "id": "FmD17VAlJ9Hp"
      },
      "execution_count": 30,
      "outputs": []
    },
    {
      "cell_type": "code",
      "source": [
        "def answer_question(question):\n",
        "    result = qa_pipeline(question=question, context=context)\n",
        "    return result['answer']"
      ],
      "metadata": {
        "id": "dSLHr7C9J-FG"
      },
      "execution_count": 31,
      "outputs": []
    },
    {
      "cell_type": "code",
      "source": [
        "print(\"Welcome to  Chatbot! Ask me anything .\")\n",
        "while True:\n",
        "    user_question = input(\"You: \")\n",
        "    if user_question.lower() in [\"exit\", \"quit\"]:\n",
        "        print(\"Chatbot: Goodbye!\")\n",
        "        break\n",
        "    answer = answer_question(user_question)\n",
        "    print(f\"Chatbot: {answer}\\n\")"
      ],
      "metadata": {
        "colab": {
          "base_uri": "https://localhost:8080/"
        },
        "id": "9JU64O4-KCnL",
        "outputId": "b5d7aff9-7f2f-422d-afe3-a2bfe6f7d4d4"
      },
      "execution_count": 32,
      "outputs": [
        {
          "output_type": "stream",
          "name": "stdout",
          "text": [
            "Welcome to  Chatbot! Ask me anything .\n",
            "You: quit.\n",
            "Chatbot: Gaurang Rawat\n",
            "\n",
            "You: exit\n",
            "Chatbot: Goodbye!\n"
          ]
        }
      ]
    },
    {
      "cell_type": "markdown",
      "source": [
        "#**Part** 2"
      ],
      "metadata": {
        "id": "mFXy8YYYZyEt"
      }
    },
    {
      "cell_type": "markdown",
      "source": [
        "!pip install transformers langchain PyPDF2"
      ],
      "metadata": {
        "id": "nMvX7qkbZ4W6"
      }
    },
    {
      "cell_type": "markdown",
      "source": [
        "import PyPDF2\n",
        "from transformers import pipeline\n",
        "from langchain.document_loaders import PyPDFLoader\n",
        "from langchain.text_splitter import CharacterTextSplitter\n",
        "from langchain.embeddings import HuggingFaceEmbeddings\n",
        "from langchain.vectorstores import FAISS\n",
        "from langchain.chains import RetrievalQA"
      ],
      "metadata": {
        "id": "4tm7pN2XZ6ni"
      }
    },
    {
      "cell_type": "markdown",
      "source": [
        "# Load the PDF file\n",
        "pdf_file_path = 'path_to_your_pdf_file.pdf'  # Replace with your PDF file path\n",
        "\n",
        "# Use PyPDF2 to read the PDF\n",
        "with open(pdf_file_path, 'rb') as file:\n",
        "    reader = PyPDF2.PdfReader(file)\n",
        "    text = \"\"\n",
        "    for page in reader.pages:\n",
        "        text += page.extract_text()"
      ],
      "metadata": {
        "id": "0sZfYPSAZ_dE"
      }
    },
    {
      "cell_type": "markdown",
      "source": [
        "text_splitter = CharacterTextSplitter(chunk_size=1000, chunk_overlap=100)\n",
        "texts = text_splitter.split_text(text)"
      ],
      "metadata": {
        "id": "5wfgBPnBaB4h"
      }
    },
    {
      "cell_type": "markdown",
      "source": [
        "embeddings = HuggingFaceEmbeddings(model_name=\"distilbert-base-uncased\")\n",
        "vector_store = FAISS.from_texts(texts, embeddings)"
      ],
      "metadata": {
        "id": "LoQ8tir-aFaz"
      }
    },
    {
      "cell_type": "markdown",
      "source": [
        "qa_chain = RetrievalQA.from_chain_type(\n",
        "    llm=pipeline(\"question-answering\", model=\"distilbert-base-uncased-distilled-squad\"),\n",
        "    chain_type=\"stuff\",\n",
        "    retriever=vector_store.as_retriever()\n",
        ")"
      ],
      "metadata": {
        "id": "GQL4m6OjaPAg"
      }
    },
    {
      "cell_type": "markdown",
      "source": [
        "def answer_question(question):\n",
        "    result = qa_chain.run(question)\n",
        "    return result"
      ],
      "metadata": {
        "id": "q3VC32f5aQ3_"
      }
    },
    {
      "cell_type": "markdown",
      "source": [
        "print(\"Welcome to the PDF Chatbot! Ask me anything based on the PDF content.\")\n",
        "while True:\n",
        "    user_question = input(\"You: \")\n",
        "    if user_question.lower() in [\"exit\", \"quit\"]:\n",
        "        print(\"Chatbot: Goodbye!\")\n",
        "        break\n",
        "    answer = answer_question(user_question)\n",
        "    print(f\"Chatbot: {answer}\\n\")"
      ],
      "metadata": {
        "id": "5Br3sMdfaVaX"
      }
    },
    {
      "cell_type": "code",
      "source": [],
      "metadata": {
        "id": "gdwOu7-2aMTX"
      },
      "execution_count": null,
      "outputs": []
    }
  ]
}